{
 "cells": [
  {
   "cell_type": "markdown",
   "id": "2ba62484",
   "metadata": {},
   "source": [
    "# 1] Implement Binary Search."
   ]
  },
  {
   "cell_type": "code",
   "execution_count": 1,
   "id": "a9f6dff7",
   "metadata": {},
   "outputs": [
    {
     "name": "stdout",
     "output_type": "stream",
     "text": [
      "Target found at index 2\n"
     ]
    }
   ],
   "source": [
    "def binary_search(arr, target):\n",
    "    \"\"\"\n",
    "    Implementation of Binary Search algorithm.\n",
    "    \n",
    "    Args:\n",
    "    - arr: a sorted list of integers\n",
    "    - target: the integer value to search for in arr\n",
    "    \n",
    "    Returns:\n",
    "    - The index of target in arr if found, or -1 if not found.\n",
    "    \"\"\"\n",
    "    left = 0\n",
    "    right = len(arr) - 1\n",
    "    \n",
    "    while left <= right:\n",
    "        mid = (left + right) // 2\n",
    "        if arr[mid] == target:\n",
    "            return mid\n",
    "        elif arr[mid] < target:\n",
    "            left = mid + 1\n",
    "        else:\n",
    "            right = mid - 1\n",
    "    \n",
    "    return -1\n",
    "\n",
    "# Example usage\n",
    "arr = [1, 3, 5, 7, 9]\n",
    "target = 5\n",
    "\n",
    "result = binary_search(arr, target)\n",
    "\n",
    "if result == -1:\n",
    "    print(\"Target not found in array\")\n",
    "else:\n",
    "    print(f\"Target found at index {result}\")\n"
   ]
  },
  {
   "cell_type": "markdown",
   "id": "fd8b1a0f",
   "metadata": {},
   "source": [
    "# 2] Implement Merge Sort."
   ]
  },
  {
   "cell_type": "code",
   "execution_count": 2,
   "id": "b9e84c74",
   "metadata": {},
   "outputs": [
    {
     "name": "stdout",
     "output_type": "stream",
     "text": [
      "Merge Sort:  [1, 2, 3, 5, 8]\n"
     ]
    }
   ],
   "source": [
    "def merge_sort(arr):\n",
    "    \"\"\"\n",
    "    Implementation of Merge Sort algorithm.\n",
    "    \n",
    "    Args:\n",
    "    - arr: a list of integers\n",
    "    \n",
    "    Returns:\n",
    "    - The sorted list of integers.\n",
    "    \"\"\"\n",
    "    if len(arr) <= 1:\n",
    "        return arr\n",
    "    \n",
    "    mid = len(arr) // 2\n",
    "    left = arr[:mid]\n",
    "    right = arr[mid:]\n",
    "    \n",
    "    left = merge_sort(left)\n",
    "    right = merge_sort(right)\n",
    "    \n",
    "    return merge(left, right)\n",
    "    \n",
    "def merge(left, right):\n",
    "    result = []\n",
    "    i = 0\n",
    "    j = 0\n",
    "    while i < len(left) and j < len(right):\n",
    "        if left[i] <= right[j]:\n",
    "            result.append(left[i])\n",
    "            i += 1\n",
    "        else:\n",
    "            result.append(right[j])\n",
    "            j += 1\n",
    "    result += left[i:]\n",
    "    result += right[j:]\n",
    "    return result\n",
    "\n",
    "# Example usage\n",
    "arr = [5, 3, 8, 1, 2]\n",
    "\n",
    "\n",
    "sorted_arr = merge_sort(arr)\n",
    "print(\"Merge Sort: \", sorted_arr)"
   ]
  },
  {
   "cell_type": "markdown",
   "id": "389ed58e",
   "metadata": {},
   "source": [
    "# 3] Implement Quick Sort."
   ]
  },
  {
   "cell_type": "code",
   "execution_count": 3,
   "id": "f9349440",
   "metadata": {},
   "outputs": [
    {
     "name": "stdout",
     "output_type": "stream",
     "text": [
      "Quick Sort:  [1, 2, 3, 5, 8]\n"
     ]
    }
   ],
   "source": [
    "def quick_sort(arr):\n",
    "    \"\"\"\n",
    "    Implementation of Quick Sort algorithm.\n",
    "    \n",
    "    Args:\n",
    "    - arr: a list of integers\n",
    "    \n",
    "    Returns:\n",
    "    - The sorted list of integers.\n",
    "    \"\"\"\n",
    "    if len(arr) <= 1:\n",
    "        return arr\n",
    "    \n",
    "    pivot = arr[len(arr) // 2]\n",
    "    left = [x for x in arr if x < pivot]\n",
    "    middle = [x for x in arr if x == pivot]\n",
    "    right = [x for x in arr if x > pivot]\n",
    "    \n",
    "    return quick_sort(left) + middle + quick_sort(right)\n",
    "\n",
    "# Example usage\n",
    "arr = [5, 3, 8, 1, 2]\n",
    "\n",
    "\n",
    "\n",
    "sorted_arr = quick_sort(arr)\n",
    "print(\"Quick Sort: \", sorted_arr)"
   ]
  },
  {
   "cell_type": "markdown",
   "id": "14a55120",
   "metadata": {},
   "source": [
    "# 4] Implement Insertion Sort."
   ]
  },
  {
   "cell_type": "code",
   "execution_count": 4,
   "id": "ff0cbb1b",
   "metadata": {},
   "outputs": [
    {
     "name": "stdout",
     "output_type": "stream",
     "text": [
      "Insertion Sort:  [1, 2, 3, 5, 8]\n"
     ]
    }
   ],
   "source": [
    "def insertion_sort(arr):\n",
    "    \"\"\"\n",
    "    Implementation of Insertion Sort algorithm.\n",
    "    \n",
    "    Args:\n",
    "    - arr: a list of integers\n",
    "    \n",
    "    Returns:\n",
    "    - The sorted list of integers.\n",
    "    \"\"\"\n",
    "    for i in range(1, len(arr)):\n",
    "        key = arr[i]\n",
    "        j = i - 1\n",
    "        while j >= 0 and key < arr[j]:\n",
    "            arr[j + 1] = arr[j]\n",
    "            j -= 1\n",
    "        arr[j + 1] = key\n",
    "    return arr\n",
    "\n",
    "\n",
    "# Example usage\n",
    "arr = [5, 3, 8, 1, 2]\n",
    "\n",
    "\n",
    "sorted_arr = insertion_sort(arr)\n",
    "print(\"Insertion Sort: \", sorted_arr)"
   ]
  },
  {
   "cell_type": "markdown",
   "id": "4b330214",
   "metadata": {},
   "source": [
    "# 5] Write a program to sort list of strings (similar to that of dictionary)"
   ]
  },
  {
   "cell_type": "code",
   "execution_count": 5,
   "id": "282ad1ca",
   "metadata": {},
   "outputs": [
    {
     "name": "stdout",
     "output_type": "stream",
     "text": [
      "['karina', 'karishma', 'mujawar', 'shona']\n"
     ]
    }
   ],
   "source": [
    "def sort_strings(lst):\n",
    "   \n",
    "    return sorted(lst)\n",
    "# Example usage\n",
    "lst = [\"mujawar\", \"karina\", \"shona\", \"karishma\"]\n",
    "\n",
    "sorted_lst = sort_strings(lst)\n",
    "print(sorted_lst)"
   ]
  },
  {
   "cell_type": "code",
   "execution_count": null,
   "id": "bb984431",
   "metadata": {},
   "outputs": [],
   "source": []
  }
 ],
 "metadata": {
  "kernelspec": {
   "display_name": "Python 3 (ipykernel)",
   "language": "python",
   "name": "python3"
  },
  "language_info": {
   "codemirror_mode": {
    "name": "ipython",
    "version": 3
   },
   "file_extension": ".py",
   "mimetype": "text/x-python",
   "name": "python",
   "nbconvert_exporter": "python",
   "pygments_lexer": "ipython3",
   "version": "3.9.12"
  }
 },
 "nbformat": 4,
 "nbformat_minor": 5
}
