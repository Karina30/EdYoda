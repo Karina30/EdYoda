{
 "cells": [
  {
   "cell_type": "markdown",
   "id": "d7016c17",
   "metadata": {},
   "source": [
    "# 1 Assignment LinearDataStructure"
   ]
  },
  {
   "cell_type": "markdown",
   "id": "6b079b05",
   "metadata": {},
   "source": [
    "# 1] Write a program to find all pairs of an integer array whose sum is equal to a given number"
   ]
  },
  {
   "cell_type": "code",
   "execution_count": 1,
   "id": "1640b244",
   "metadata": {},
   "outputs": [
    {
     "name": "stdout",
     "output_type": "stream",
     "text": [
      "[(1, 6), (2, 5), (3, 4)]\n"
     ]
    }
   ],
   "source": [
    "def find_pairs(arr, target_sum):\n",
    "    pairs = []\n",
    "    for i in range(len(arr)):\n",
    "        for j in range(i+1, len(arr)):\n",
    "            if arr[i] + arr[j] == target_sum:\n",
    "                pairs.append((arr[i], arr[j]))\n",
    "    return pairs\n",
    "\n",
    "my_arr = [1, 2, 3, 4, 5, 6]\n",
    "my_sum = 7\n",
    "\n",
    "my_pairs = find_pairs(my_arr, my_sum)\n",
    "print(my_pairs)\n"
   ]
  },
  {
   "cell_type": "markdown",
   "id": "d0253086",
   "metadata": {},
   "source": [
    "# 2] Write a program to reverse an array in place? In place means you cannot create a new array. You have to update the original array."
   ]
  },
  {
   "cell_type": "code",
   "execution_count": 2,
   "id": "25856e2e",
   "metadata": {},
   "outputs": [
    {
     "name": "stdout",
     "output_type": "stream",
     "text": [
      "Original Array: [1, 2, 3, 4, 5]\n",
      "Reversed Array: [5, 4, 3, 2, 1]\n"
     ]
    }
   ],
   "source": [
    "def reverse_array(arr):\n",
    "    start_index = 0\n",
    "    end_index = len(arr) - 1\n",
    "    \n",
    "    while end_index > start_index:\n",
    "        arr[start_index], arr[end_index] = arr[end_index], arr[start_index]\n",
    "        start_index += 1\n",
    "        end_index -= 1\n",
    "\n",
    "my_arr = [1, 2, 3, 4, 5]\n",
    "print(\"Original Array:\", my_arr)\n",
    "\n",
    "reverse_array(my_arr)\n",
    "print(\"Reversed Array:\", my_arr)\n"
   ]
  },
  {
   "cell_type": "markdown",
   "id": "6c6aeb35",
   "metadata": {},
   "source": [
    "# 3] Write a program to check if two strings are a rotation of each other"
   ]
  },
  {
   "cell_type": "code",
   "execution_count": 3,
   "id": "62cb1d4c",
   "metadata": {},
   "outputs": [
    {
     "name": "stdout",
     "output_type": "stream",
     "text": [
      "hello and llohe are rotations of each other.\n"
     ]
    }
   ],
   "source": [
    "def is_rotation(s1, s2):\n",
    "    if len(s1) != len(s2):\n",
    "        return False\n",
    "    \n",
    "    # concatenate s1 with itself to cover all possible rotations\n",
    "    s1s1 = s1 + s1\n",
    "    \n",
    "    if s2 in s1s1:\n",
    "        return True\n",
    "    \n",
    "    return False\n",
    "\n",
    "string1 = \"hello\"\n",
    "string2 = \"llohe\"\n",
    "\n",
    "if is_rotation(string1, string2):\n",
    "    print(f\"{string1} and {string2} are rotations of each other.\")\n",
    "else:\n",
    "    print(f\"{string1} and {string2} are not rotations of each other.\")\n"
   ]
  },
  {
   "cell_type": "markdown",
   "id": "501f9fd9",
   "metadata": {},
   "source": [
    "# 4] Write a program to print the first non-repeated character from a string"
   ]
  },
  {
   "cell_type": "code",
   "execution_count": 4,
   "id": "c84533a1",
   "metadata": {},
   "outputs": [
    {
     "name": "stdout",
     "output_type": "stream",
     "text": [
      "The first non-repeated character in abcaadbce is d.\n"
     ]
    }
   ],
   "source": [
    "def find_first_non_repeated_char(s):\n",
    "    # create a dictionary to count the frequency of each character\n",
    "    char_freq = {}\n",
    "    for char in s:\n",
    "        if char in char_freq:\n",
    "            char_freq[char] += 1\n",
    "        else:\n",
    "            char_freq[char] = 1\n",
    "    \n",
    "    # find the first character with frequency 1\n",
    "    for char in s:\n",
    "        if char_freq[char] == 1:\n",
    "            return char\n",
    "    \n",
    "    return None\n",
    "\n",
    "my_string = \"abcaadbce\"\n",
    "result = find_first_non_repeated_char(my_string)\n",
    "\n",
    "if result:\n",
    "    print(f\"The first non-repeated character in {my_string} is {result}.\")\n",
    "else:\n",
    "    print(f\"There are no non-repeated characters in {my_string}.\")\n"
   ]
  },
  {
   "cell_type": "markdown",
   "id": "2212544c",
   "metadata": {},
   "source": [
    "# 5] Read about the Tower of Hanoi algorithm. Write a program to implement it"
   ]
  },
  {
   "cell_type": "code",
   "execution_count": 5,
   "id": "8c385715",
   "metadata": {},
   "outputs": [
    {
     "name": "stdout",
     "output_type": "stream",
     "text": [
      "Enter the number of disks: 2\n",
      "Move disk 1 from A to B\n",
      "Move disk 2 from A to C\n",
      "Move disk 1 from B to C\n"
     ]
    }
   ],
   "source": [
    "def tower_of_hanoi(n, source, auxiliary, destination):\n",
    "    if n == 1:\n",
    "        print(f\"Move disk 1 from {source} to {destination}\")\n",
    "        return\n",
    "    \n",
    "    tower_of_hanoi(n-1, source, destination, auxiliary)\n",
    "    print(f\"Move disk {n} from {source} to {destination}\")\n",
    "    tower_of_hanoi(n-1, auxiliary, source, destination)\n",
    "\n",
    "n = int(input(\"Enter the number of disks: \"))\n",
    "tower_of_hanoi(n, \"A\", \"B\", \"C\")\n"
   ]
  },
  {
   "cell_type": "markdown",
   "id": "82c9243d",
   "metadata": {},
   "source": [
    "# 6] Read about infix, prefix, and postfix expressions. Write a program to convert postfix to prefix expression"
   ]
  },
  {
   "cell_type": "code",
   "execution_count": 6,
   "id": "6d1893ed",
   "metadata": {},
   "outputs": [
    {
     "name": "stdout",
     "output_type": "stream",
     "text": [
      "Enter a postfix expression: 23+5*\n",
      "Prefix Expression: *+235\n"
     ]
    }
   ],
   "source": [
    "def postfix_to_prefix(postfix_expression):\n",
    "    stack = []\n",
    "    operators = set(['+', '-', '*', '/', '^'])\n",
    "\n",
    "    for char in postfix_expression:\n",
    "        if char not in operators:\n",
    "            stack.append(char)\n",
    "        else:\n",
    "            operand2 = stack.pop()\n",
    "            operand1 = stack.pop()\n",
    "            prefix_expression = char + operand1 + operand2\n",
    "            stack.append(prefix_expression)\n",
    "\n",
    "    return stack.pop()\n",
    "\n",
    "postfix_expression = input(\"Enter a postfix expression: \")\n",
    "prefix_expression = postfix_to_prefix(postfix_expression)\n",
    "print(\"Prefix Expression:\", prefix_expression)\n"
   ]
  },
  {
   "cell_type": "markdown",
   "id": "e7901c6f",
   "metadata": {},
   "source": [
    "# 7] Write a program to convert prefix expression to infix expression"
   ]
  },
  {
   "cell_type": "code",
   "execution_count": 7,
   "id": "b1c8b3c3",
   "metadata": {},
   "outputs": [
    {
     "name": "stdout",
     "output_type": "stream",
     "text": [
      "Enter a prefix expression: *+235\n",
      "Infix Expression: ((2+3)*5)\n"
     ]
    }
   ],
   "source": [
    "def prefix_to_infix(prefix_expression):\n",
    "    stack = []\n",
    "\n",
    "    for char in reversed(prefix_expression):\n",
    "        if char.isalpha() or char.isdigit():\n",
    "            stack.append(char)\n",
    "        else:\n",
    "            operand1 = stack.pop()\n",
    "            operand2 = stack.pop()\n",
    "            infix_expression = '(' + operand1 + char + operand2 + ')'\n",
    "            stack.append(infix_expression)\n",
    "\n",
    "    return stack.pop()\n",
    "\n",
    "prefix_expression = input(\"Enter a prefix expression: \")\n",
    "infix_expression = prefix_to_infix(prefix_expression)\n",
    "print(\"Infix Expression:\", infix_expression)\n"
   ]
  },
  {
   "cell_type": "markdown",
   "id": "9a317ddd",
   "metadata": {},
   "source": [
    "# 8] Write a program to check if all the brackets are closed in a given code snippet"
   ]
  },
  {
   "cell_type": "code",
   "execution_count": 3,
   "id": "e8f15557",
   "metadata": {},
   "outputs": [
    {
     "name": "stdout",
     "output_type": "stream",
     "text": [
      "Enter a code snippet: def example_function(a, b, c):     if (a > b) and (a > c):         print(\"a is the largest.\")     elif (b > a) and (b > c):         print(\"b is the largest.\")     else:         print(\"c is the largest.\")  example_function(3, 5, 2)\n",
      "All brackets are closed.\n"
     ]
    }
   ],
   "source": [
    "def check_brackets(code_snippet):\n",
    "    stack = []\n",
    "\n",
    "    for char in code_snippet:\n",
    "        if char in ('(', '{', '['):\n",
    "            stack.append(char)\n",
    "        elif char in (')', '}', ']'):\n",
    "            if not stack:\n",
    "                return False\n",
    "            elif (char == ')' and stack[-1] != '(') or \\\n",
    "                 (char == '}' and stack[-1] != '{') or \\\n",
    "                 (char == ']' and stack[-1] != '['):\n",
    "                return False\n",
    "            else:\n",
    "                stack.pop()\n",
    "\n",
    "    return not stack\n",
    "\n",
    "code_snippet = input(\"Enter a code snippet: \")\n",
    "if check_brackets(code_snippet):\n",
    "    print(\"All brackets are closed.\")\n",
    "else:\n",
    "    print(\"Brackets are not closed.\")\n"
   ]
  },
  {
   "cell_type": "markdown",
   "id": "299db944",
   "metadata": {},
   "source": [
    "# 9] Write a program to reverse a stack"
   ]
  },
  {
   "cell_type": "code",
   "execution_count": 7,
   "id": "9c2aac25",
   "metadata": {},
   "outputs": [
    {
     "name": "stdout",
     "output_type": "stream",
     "text": [
      "Original stack: [1, 2, 3, 4, 5]\n",
      "Reversed stack: [5, 4, 3, 2, 1]\n"
     ]
    }
   ],
   "source": [
    "def reverse_stack(stack):\n",
    "    if not stack:\n",
    "        return\n",
    "\n",
    "    temp = stack.pop()\n",
    "    reverse_stack(stack)\n",
    "    insert_at_bottom(stack, temp)\n",
    "\n",
    "\n",
    "def insert_at_bottom(stack, item):\n",
    "    if not stack:\n",
    "        stack.append(item)\n",
    "        return\n",
    "\n",
    "    temp = stack.pop()\n",
    "    insert_at_bottom(stack, item)\n",
    "    stack.append(temp)\n",
    "\n",
    "stack = [1, 2, 3, 4, 5]\n",
    "print(\"Original stack:\", stack)\n",
    "reverse_stack(stack)\n",
    "print(\"Reversed stack:\", stack)\n"
   ]
  },
  {
   "cell_type": "markdown",
   "id": "c3069f94",
   "metadata": {},
   "source": [
    "# 10] Write a program to find the smallest number using a stack"
   ]
  },
  {
   "cell_type": "code",
   "execution_count": 10,
   "id": "720d1768",
   "metadata": {},
   "outputs": [
    {
     "name": "stdout",
     "output_type": "stream",
     "text": [
      "Smallest number: 2\n"
     ]
    }
   ],
   "source": [
    "def find_smallest_number(stack):\n",
    "    if not stack:\n",
    "        return None\n",
    "\n",
    "    min_num = stack.pop()\n",
    "    if not stack:\n",
    "        return min_num\n",
    "\n",
    "    num = find_smallest_number(stack)\n",
    "    if num < min_num:\n",
    "        return num\n",
    "    else:\n",
    "        return min_num\n",
    "\n",
    "stack = [5, 3, 8, 9, 2]\n",
    "print(\"Smallest number:\", find_smallest_number(stack))\n"
   ]
  },
  {
   "cell_type": "code",
   "execution_count": null,
   "id": "703e15e6",
   "metadata": {},
   "outputs": [],
   "source": []
  }
 ],
 "metadata": {
  "kernelspec": {
   "display_name": "Python 3 (ipykernel)",
   "language": "python",
   "name": "python3"
  },
  "language_info": {
   "codemirror_mode": {
    "name": "ipython",
    "version": 3
   },
   "file_extension": ".py",
   "mimetype": "text/x-python",
   "name": "python",
   "nbconvert_exporter": "python",
   "pygments_lexer": "ipython3",
   "version": "3.9.12"
  }
 },
 "nbformat": 4,
 "nbformat_minor": 5
}
