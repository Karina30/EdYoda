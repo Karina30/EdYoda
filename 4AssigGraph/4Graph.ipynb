{
 "cells": [
  {
   "cell_type": "markdown",
   "id": "b0a1d6a8",
   "metadata": {},
   "source": [
    "# 1] Breadth First Traversal for a Graph"
   ]
  },
  {
   "cell_type": "code",
   "execution_count": 14,
   "id": "bd8e9704",
   "metadata": {},
   "outputs": [
    {
     "name": "stdout",
     "output_type": "stream",
     "text": [
      "Breadth First Traversal (starting from vertex 2):\n",
      "2 0 3 1 "
     ]
    }
   ],
   "source": [
    "from collections import defaultdict, deque\n",
    "\n",
    "class Graph:\n",
    "    def __init__(self):\n",
    "        self.graph = defaultdict(list)\n",
    "\n",
    "    def add_edge(self, u, v):\n",
    "        self.graph[u].append(v)\n",
    "\n",
    "    def bfs(self, start):\n",
    "        visited = [False] * len(self.graph)\n",
    "        queue = deque([start])\n",
    "        visited[start] = True\n",
    "\n",
    "        while queue:\n",
    "            vertex = queue.popleft()\n",
    "            print(vertex, end=' ')\n",
    "\n",
    "            for neighbor in self.graph[vertex]:\n",
    "                if not visited[neighbor]:\n",
    "                    visited[neighbor] = True\n",
    "                    queue.append(neighbor)\n",
    "                    \n",
    "# Example usage\n",
    "g = Graph()\n",
    "g.add_edge(0, 1)\n",
    "g.add_edge(0, 2)\n",
    "g.add_edge(1, 2)\n",
    "g.add_edge(2, 0)\n",
    "g.add_edge(2, 3)\n",
    "g.add_edge(3, 3)\n",
    "\n",
    "print(\"Breadth First Traversal (starting from vertex 2):\")\n",
    "g.bfs(2)\n",
    "\n"
   ]
  },
  {
   "cell_type": "markdown",
   "id": "06bf144b",
   "metadata": {},
   "source": [
    "# 2] Depth First Traversal for a Graph"
   ]
  },
  {
   "cell_type": "code",
   "execution_count": 15,
   "id": "c0768f76",
   "metadata": {},
   "outputs": [
    {
     "name": "stdout",
     "output_type": "stream",
     "text": [
      "2 0 1 3 "
     ]
    }
   ],
   "source": [
    "from collections import defaultdict\n",
    "\n",
    "class Graph:\n",
    "    def __init__(self):\n",
    "        self.graph = defaultdict(list)\n",
    "\n",
    "    def add_edge(self, u, v):\n",
    "        self.graph[u].append(v)\n",
    "\n",
    "    def dfs_util(self, v, visited):\n",
    "        visited[v] = True\n",
    "        print(v, end=' ')\n",
    "        for i in self.graph[v]:\n",
    "            if not visited[i]:\n",
    "                self.dfs_util(i, visited)\n",
    "\n",
    "    def dfs(self, v):\n",
    "        visited = [False] * (max(self.graph)+1)\n",
    "        self.dfs_util(v, visited)\n",
    "        \n",
    "g = Graph()\n",
    "g.add_edge(0, 1)\n",
    "g.add_edge(0, 2)\n",
    "g.add_edge(1, 2)\n",
    "g.add_edge(2, 0)\n",
    "g.add_edge(2, 3)\n",
    "g.add_edge(3, 3)\n",
    "\n",
    "g.dfs(2)\n"
   ]
  },
  {
   "cell_type": "markdown",
   "id": "2d3830eb",
   "metadata": {},
   "source": [
    "# 3] Count the number of nodes at given level in a tree using BFS"
   ]
  },
  {
   "cell_type": "code",
   "execution_count": 16,
   "id": "c43d764b",
   "metadata": {},
   "outputs": [
    {
     "name": "stdout",
     "output_type": "stream",
     "text": [
      "Number of nodes at level 2: 4\n"
     ]
    }
   ],
   "source": [
    "from collections import deque\n",
    "\n",
    "class TreeNode:\n",
    "    def __init__(self, val=0, left=None, right=None):\n",
    "        self.val = val\n",
    "        self.left = left\n",
    "        self.right = right\n",
    "\n",
    "def countNodesAtLevel(root: TreeNode, level: int) -> int:\n",
    "    if not root:\n",
    "        return 0\n",
    "    \n",
    "    queue = deque([(root, 0)])\n",
    "    count = 0\n",
    "    \n",
    "    while queue:\n",
    "        node, cur_level = queue.popleft()\n",
    "        \n",
    "        if cur_level == level:\n",
    "            count += 1\n",
    "        \n",
    "        if node.left:\n",
    "            queue.append((node.left, cur_level + 1))\n",
    "        if node.right:\n",
    "            queue.append((node.right, cur_level + 1))\n",
    "            \n",
    "    return count\n",
    "\n",
    "\n",
    "# First, create a tree\n",
    "root = TreeNode(1)\n",
    "root.left = TreeNode(2)\n",
    "root.right = TreeNode(3)\n",
    "root.left.left = TreeNode(4)\n",
    "root.left.right = TreeNode(5)\n",
    "root.right.left = TreeNode(6)\n",
    "root.right.right = TreeNode(7)\n",
    "\n",
    "# Call the countNodesAtLevel function to count the number of nodes at level 2\n",
    "count = countNodesAtLevel(root, 2)\n",
    "\n",
    "# Print the result\n",
    "print(\"Number of nodes at level 2:\", count)\n",
    "\n"
   ]
  },
  {
   "cell_type": "markdown",
   "id": "badabc84",
   "metadata": {},
   "source": [
    "# 4] Count number of trees in a forest"
   ]
  },
  {
   "cell_type": "code",
   "execution_count": 17,
   "id": "a682b172",
   "metadata": {},
   "outputs": [
    {
     "name": "stdout",
     "output_type": "stream",
     "text": [
      "Number of trees in the forest: 2\n"
     ]
    }
   ],
   "source": [
    "from typing import List\n",
    "\n",
    "def countTrees(adjList: List[List[int]]) -> int:\n",
    "    def dfs(node):\n",
    "        visited.add(node)\n",
    "        for neighbor in adjList[node]:\n",
    "            if neighbor not in visited:\n",
    "                dfs(neighbor)\n",
    "                \n",
    "    n = len(adjList)\n",
    "    visited = set()\n",
    "    count = 0\n",
    "    \n",
    "    for i in range(n):\n",
    "        if i not in visited:\n",
    "            dfs(i)\n",
    "            count += 1\n",
    "            \n",
    "    return count\n",
    "\n",
    "\n",
    "# Example adjacency list for a forest with 3 trees:\n",
    "adjList = [[1], [0, 2], [1], [4], [3]]\n",
    "\n",
    "# Call the countTrees function to count the number of trees in the forest\n",
    "numTrees = countTrees(adjList)\n",
    "\n",
    "# Print the result\n",
    "print(\"Number of trees in the forest:\", numTrees)\n"
   ]
  },
  {
   "cell_type": "markdown",
   "id": "244ba718",
   "metadata": {},
   "source": [
    "# 5] Detect Cycle in a Directed Graph"
   ]
  },
  {
   "cell_type": "code",
   "execution_count": 18,
   "id": "231bf1e3",
   "metadata": {},
   "outputs": [
    {
     "name": "stdout",
     "output_type": "stream",
     "text": [
      "The graph has a cycle\n"
     ]
    }
   ],
   "source": [
    "from typing import List\n",
    "\n",
    "def hasCycle(adjList: List[List[int]]) -> bool:\n",
    "    def dfs(node):\n",
    "        visited.add(node)\n",
    "        inStack.add(node)\n",
    "        for neighbor in adjList[node]:\n",
    "            if neighbor not in visited:\n",
    "                if dfs(neighbor):\n",
    "                    return True\n",
    "            elif neighbor in inStack:\n",
    "                return True\n",
    "        inStack.remove(node)\n",
    "        return False\n",
    "        \n",
    "    n = len(adjList)\n",
    "    visited = set()\n",
    "    inStack = set()\n",
    "    \n",
    "    for i in range(n):\n",
    "        if i not in visited:\n",
    "            if dfs(i):\n",
    "                return True\n",
    "            \n",
    "    return False\n",
    "\n",
    "\n",
    "# Example adjacency list for a directed acyclic graph (DAG):\n",
    "adjList = [[1, 2], [2, 3], [], [4], [3]]\n",
    "\n",
    "# Call the hasCycle function to detect cycles in the graph\n",
    "hasCycle = hasCycle(adjList)\n",
    "\n",
    "# Print the result\n",
    "if hasCycle:\n",
    "    print(\"The graph has a cycle\")\n",
    "else:\n",
    "    print(\"The graph does not have a cycle\")\n"
   ]
  },
  {
   "cell_type": "markdown",
   "id": "a5190688",
   "metadata": {},
   "source": [
    "# Implement n-Queen’s Problem"
   ]
  },
  {
   "cell_type": "code",
   "execution_count": 22,
   "id": "047a2976",
   "metadata": {},
   "outputs": [
    {
     "name": "stdout",
     "output_type": "stream",
     "text": [
      "No valid solutions found.\n"
     ]
    }
   ],
   "source": [
    "def solveNQueens(n: int) -> List[List[str]]:\n",
    "    def backtrack(row, cols, diagonals, antiDiagonals):\n",
    "        if row == n:\n",
    "            result.append(board[:])\n",
    "            return\n",
    "        for col in range(n):\n",
    "            diagonalIdx = row - col\n",
    "            antiDiagonalIdx = row + col\n",
    "            if col in cols or diagonalIdx in diagonals or antiDiagonalIdx in antiDiagonals:\n",
    "                continue\n",
    "            board[row][col] = 'Q'\n",
    "            cols.add(col)\n",
    "            diagonals.add(diagonalIdx)\n",
    "            antiDiagonals.add(antiDiagonalIdx)\n",
    "            backtrack(row + 1, cols, diagonals, antiDiagonals)\n",
    "            board[row][col] = '.'\n",
    "            cols.remove(col)\n",
    "            diagonals.remove(diagonalIdx)\n",
    "            antiDiagonals.remove(antiDiagonalIdx)\n",
    "    \n",
    "    result = []\n",
    "    board = [['.' for _ in range(n)] for _ in range(n)]\n",
    "    backtrack(0, set(), set(), set())\n",
    "    return result\n",
    "from typing import List\n",
    "\n",
    "def solveNQueens(n: int) -> List[List[str]]:\n",
    "    # implementation of solveNQueens function goes here\n",
    "    pass\n",
    "\n",
    "# Call solveNQueens with n=2\n",
    "results = solveNQueens(2)\n",
    "\n",
    "# Check if results is None before iterating over it\n",
    "if results is not None:\n",
    "    for result in results:\n",
    "        for row in result:\n",
    "            print(row)\n",
    "        print()\n",
    "else:\n",
    "    print(\"No valid solutions found.\")\n",
    "\n"
   ]
  },
  {
   "cell_type": "code",
   "execution_count": null,
   "id": "c4657747",
   "metadata": {},
   "outputs": [],
   "source": []
  }
 ],
 "metadata": {
  "kernelspec": {
   "display_name": "Python 3 (ipykernel)",
   "language": "python",
   "name": "python3"
  },
  "language_info": {
   "codemirror_mode": {
    "name": "ipython",
    "version": 3
   },
   "file_extension": ".py",
   "mimetype": "text/x-python",
   "name": "python",
   "nbconvert_exporter": "python",
   "pygments_lexer": "ipython3",
   "version": "3.9.12"
  }
 },
 "nbformat": 4,
 "nbformat_minor": 5
}
