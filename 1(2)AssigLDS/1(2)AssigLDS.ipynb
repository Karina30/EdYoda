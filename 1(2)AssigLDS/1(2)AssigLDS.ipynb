{
 "cells": [
  {
   "cell_type": "markdown",
   "id": "6039aadd",
   "metadata": {},
   "source": [
    "# 1] Delete the elements in an linked list whose sum is equal to zero"
   ]
  },
  {
   "cell_type": "code",
   "execution_count": 19,
   "id": "63aa6e97",
   "metadata": {},
   "outputs": [
    {
     "name": "stdout",
     "output_type": "stream",
     "text": [
      "-2 2 1 -1 -1 4 \n",
      "-1 4 \n"
     ]
    }
   ],
   "source": [
    "class Node:\n",
    "    def __init__(self, data):\n",
    "        self.data = data\n",
    "        self.next = None\n",
    "\n",
    "def delete_zero_sum(head):\n",
    "    dummy = Node(0)\n",
    "    dummy.next = head\n",
    "    prefix_sum = {0: dummy}\n",
    "    curr = head\n",
    "    prefix_sum_value = 0\n",
    "    while curr:\n",
    "        prefix_sum_value += curr.data\n",
    "        if prefix_sum_value in prefix_sum:\n",
    "            prev = prefix_sum[prefix_sum_value]\n",
    "            start = prev\n",
    "            sum_val = prefix_sum_value\n",
    "            while start != curr:\n",
    "                start = start.next\n",
    "                sum_val += start.data\n",
    "                if start != curr:\n",
    "                    del prefix_sum[sum_val]\n",
    "            prev.next = curr.next\n",
    "        else:\n",
    "            prefix_sum[prefix_sum_value] = curr\n",
    "        curr = curr.next\n",
    "    return dummy.next\n",
    "\n",
    "\n",
    "# create a linked list with elements [-2, 2, 1, -1, -1, 4]\n",
    "head = Node(-2)\n",
    "head.next = Node(2)\n",
    "head.next.next = Node(1)\n",
    "head.next.next.next = Node(-1)\n",
    "head.next.next.next.next = Node(-1)\n",
    "head.next.next.next.next.next = Node(4)\n",
    "\n",
    "# print the original linked list\n",
    "curr = head\n",
    "while curr:\n",
    "    print(curr.data, end=\" \")\n",
    "    curr = curr.next\n",
    "print()\n",
    "\n",
    "# call delete_zero_sum function\n",
    "head = delete_zero_sum(head)\n",
    "\n",
    "# print the modified linked list\n",
    "curr = head\n",
    "while curr:\n",
    "    print(curr.data, end=\" \")\n",
    "    curr = curr.next\n",
    "print()\n"
   ]
  },
  {
   "cell_type": "markdown",
   "id": "b79451d6",
   "metadata": {},
   "source": [
    "# 2] Reverse a linked list in groups of given size"
   ]
  },
  {
   "cell_type": "code",
   "execution_count": 20,
   "id": "0f5d0b4c",
   "metadata": {},
   "outputs": [
    {
     "name": "stdout",
     "output_type": "stream",
     "text": [
      "1 2 3 4 5 \n",
      "2 1 4 3 5 \n"
     ]
    }
   ],
   "source": [
    "class Node:\n",
    "    def __init__(self, data):\n",
    "        self.data = data\n",
    "        self.next = None\n",
    "\n",
    "def reverse_k_groups(head, k):\n",
    "    if not head or k == 1:\n",
    "        return head\n",
    "    dummy = Node(0)\n",
    "    dummy.next = head\n",
    "    prev = dummy\n",
    "    while prev:\n",
    "        start = prev.next\n",
    "        end = prev\n",
    "        for i in range(k):\n",
    "            end = end.next\n",
    "            if not end:\n",
    "                return dummy.next\n",
    "        next_node = end.next\n",
    "        end.next = None\n",
    "        prev.next = reverse_list(start)\n",
    "        start.next = next_node\n",
    "        prev = start\n",
    "    return dummy.next\n",
    "\n",
    "def reverse_list(head):\n",
    "    if not head or not head.next:\n",
    "        return head\n",
    "    prev = None\n",
    "    curr = head\n",
    "    while curr:\n",
    "        next_node = curr.next\n",
    "        curr.next = prev\n",
    "        prev = curr\n",
    "        curr = next_node\n",
    "    return prev\n",
    "\n",
    "\n",
    "# create a linked list with elements [1, 2, 3, 4, 5]\n",
    "head = Node(1)\n",
    "head.next = Node(2)\n",
    "head.next.next = Node(3)\n",
    "head.next.next.next = Node(4)\n",
    "head.next.next.next.next = Node(5)\n",
    "\n",
    "# print the original linked list\n",
    "curr = head\n",
    "while curr:\n",
    "    print(curr.data, end=\" \")\n",
    "    curr = curr.next\n",
    "print()\n",
    "\n",
    "# call reverse_k_groups function with k=2\n",
    "head = reverse_k_groups(head, 2)\n",
    "\n",
    "# print the modified linked list\n",
    "curr = head\n",
    "while curr:\n",
    "    print(curr.data, end=\" \")\n",
    "    curr = curr.next\n",
    "print()\n"
   ]
  },
  {
   "cell_type": "markdown",
   "id": "0c5b177e",
   "metadata": {},
   "source": [
    "# 3] Merge a linked list into another linked list at alternate positions"
   ]
  },
  {
   "cell_type": "code",
   "execution_count": 21,
   "id": "c7e24020",
   "metadata": {},
   "outputs": [
    {
     "name": "stdout",
     "output_type": "stream",
     "text": [
      "1 2 3 \n",
      "4 5 6 7 \n",
      "1 4 2 5 3 6 \n"
     ]
    }
   ],
   "source": [
    "class Node:\n",
    "    def __init__(self, data):\n",
    "        self.data = data\n",
    "        self.next = None\n",
    "\n",
    "def merge_alternate(head1, head2):\n",
    "    curr1 = head1\n",
    "    curr2 = head2\n",
    "    while curr1 and curr2:\n",
    "        next_node1 = curr1.next\n",
    "        next_node2 = curr2.next\n",
    "        curr1.next = curr2\n",
    "        curr2.next = next_node1\n",
    "        curr1 = next_node1\n",
    "        curr2 = next_node2\n",
    "    return head1\n",
    "\n",
    "\n",
    "\n",
    "# create the first linked list with elements [1, 2, 3]\n",
    "head1 = Node(1)\n",
    "head1.next = Node(2)\n",
    "head1.next.next = Node(3)\n",
    "\n",
    "# create the second linked list with elements [4, 5, 6, 7]\n",
    "head2 = Node(4)\n",
    "head2.next = Node(5)\n",
    "head2.next.next = Node(6)\n",
    "head2.next.next.next = Node(7)\n",
    "\n",
    "# print the original linked lists\n",
    "curr = head1\n",
    "while curr:\n",
    "    print(curr.data, end=\" \")\n",
    "    curr = curr.next\n",
    "print()\n",
    "curr = head2\n",
    "while curr:\n",
    "    print(curr.data, end=\" \")\n",
    "    curr = curr.next\n",
    "print()\n",
    "\n",
    "# call merge_alternate function\n",
    "head1 = merge_alternate(head1, head2)\n",
    "\n",
    "# print the modified linked list\n",
    "curr = head1\n",
    "while curr:\n",
    "    print(curr.data, end=\" \")\n",
    "    curr = curr.next\n",
    "print()\n"
   ]
  },
  {
   "cell_type": "markdown",
   "id": "0bf5d80a",
   "metadata": {},
   "source": [
    "# 4] In an array, Count Pairs with given sum"
   ]
  },
  {
   "cell_type": "code",
   "execution_count": 22,
   "id": "8af56fa3",
   "metadata": {},
   "outputs": [
    {
     "name": "stdout",
     "output_type": "stream",
     "text": [
      "3\n"
     ]
    }
   ],
   "source": [
    "def count_pairs_with_given_sum(arr, k):\n",
    "    count = 0\n",
    "    for i in range(len(arr)):\n",
    "        for j in range(i+1, len(arr)):\n",
    "            if arr[i] + arr[j] == k:\n",
    "                count += 1\n",
    "    return count\n",
    "\n",
    "\n",
    "# example array\n",
    "arr = [1, 5, 7, -1, 5]\n",
    "# example sum\n",
    "k = 6\n",
    "\n",
    "# call the function and print the result\n",
    "count = count_pairs_with_given_sum(arr, k)\n",
    "print(count)\n"
   ]
  },
  {
   "cell_type": "markdown",
   "id": "770c8c73",
   "metadata": {},
   "source": [
    "# 5] Find duplicates in an array"
   ]
  },
  {
   "cell_type": "code",
   "execution_count": 23,
   "id": "b60a56f4",
   "metadata": {},
   "outputs": [
    {
     "name": "stdout",
     "output_type": "stream",
     "text": [
      "[1, 3, 6]\n"
     ]
    }
   ],
   "source": [
    "def find_duplicates(arr):\n",
    "    seen = set()\n",
    "    duplicates = set()\n",
    "    for num in arr:\n",
    "        if num in seen:\n",
    "            duplicates.add(num)\n",
    "        else:\n",
    "            seen.add(num)\n",
    "    return list(duplicates)\n",
    "\n",
    "\n",
    "# example array\n",
    "arr = [1, 2, 3, 1, 3, 6, 6]\n",
    "\n",
    "# call the function and print the result\n",
    "duplicates = find_duplicates(arr)\n",
    "print(duplicates)\n"
   ]
  },
  {
   "cell_type": "markdown",
   "id": "92ae58be",
   "metadata": {},
   "source": [
    "# 6] Find the Kth largest and Kth smallest number in an array"
   ]
  },
  {
   "cell_type": "code",
   "execution_count": 24,
   "id": "cc1c707d",
   "metadata": {},
   "outputs": [
    {
     "name": "stdout",
     "output_type": "stream",
     "text": [
      "7\n"
     ]
    }
   ],
   "source": [
    "def kth_smallest(arr, k):\n",
    "    arr.sort()\n",
    "    return arr[k-1]\n",
    "\n",
    "def kth_largest(arr, k):\n",
    "    arr.sort(reverse=True)\n",
    "    return arr[k-1]\n",
    "\n",
    "\n",
    "# example array\n",
    "arr = [7, 10, 4, 3, 20, 15]\n",
    "# example k value\n",
    "k = 3\n",
    "\n",
    "# call the function and print the result\n",
    "kth_smallest_num = kth_smallest(arr, k)\n",
    "print(kth_smallest_num)\n"
   ]
  },
  {
   "cell_type": "markdown",
   "id": "54c46772",
   "metadata": {},
   "source": [
    "# 7] Move all the negative elements to one side of the array"
   ]
  },
  {
   "cell_type": "code",
   "execution_count": 25,
   "id": "82b544ea",
   "metadata": {},
   "outputs": [
    {
     "name": "stdout",
     "output_type": "stream",
     "text": [
      "[9, 2, 8, 4, 5, 6, -7, -3, -1]\n"
     ]
    }
   ],
   "source": [
    "def move_negatives_to_one_side(arr):\n",
    "    i = 0\n",
    "    j = len(arr) - 1\n",
    "    while i < j:\n",
    "        if arr[i] < 0 and arr[j] >= 0:\n",
    "            arr[i], arr[j] = arr[j], arr[i]\n",
    "            i += 1\n",
    "            j -= 1\n",
    "        elif arr[i] >= 0:\n",
    "            i += 1\n",
    "        elif arr[j] < 0:\n",
    "            j -= 1\n",
    "    return arr\n",
    "\n",
    "\n",
    "# example array\n",
    "arr = [-1, 2, -3, 4, 5, 6, -7, 8, 9]\n",
    "\n",
    "# call the function and print the result\n",
    "new_arr = move_negatives_to_one_side(arr)\n",
    "print(new_arr)\n"
   ]
  },
  {
   "cell_type": "markdown",
   "id": "680c050a",
   "metadata": {},
   "source": [
    "# 8] Reverse a string using a stack data structure"
   ]
  },
  {
   "cell_type": "code",
   "execution_count": 26,
   "id": "b3cf10b4",
   "metadata": {},
   "outputs": [
    {
     "name": "stdout",
     "output_type": "stream",
     "text": [
      "!dlrow ,olleH\n"
     ]
    }
   ],
   "source": [
    "def reverse_string(string):\n",
    "    stack = []\n",
    "    for char in string:\n",
    "        stack.append(char)\n",
    "    reversed_string = ''\n",
    "    while stack:\n",
    "        reversed_string += stack.pop()\n",
    "    return reversed_string\n",
    "\n",
    "\n",
    "# example string\n",
    "s = \"Hello, world!\"\n",
    "\n",
    "# call the function and print the result\n",
    "reverse_s = reverse_string(s)\n",
    "print(reverse_s)\n"
   ]
  },
  {
   "cell_type": "markdown",
   "id": "7e6b9dde",
   "metadata": {},
   "source": [
    "# 9] Evaluate a postfix expression using stack"
   ]
  },
  {
   "cell_type": "code",
   "execution_count": 27,
   "id": "9c227589",
   "metadata": {},
   "outputs": [
    {
     "name": "stdout",
     "output_type": "stream",
     "text": [
      "-4\n"
     ]
    }
   ],
   "source": [
    "def evaluate_postfix(postfix):\n",
    "    stack = []\n",
    "    for char in postfix:\n",
    "        if char.isdigit():\n",
    "            stack.append(int(char))\n",
    "        else:\n",
    "            num2 = stack.pop()\n",
    "            num1 = stack.pop()\n",
    "            if char == '+':\n",
    "                stack.append(num1 + num2)\n",
    "            elif char == '-':\n",
    "                stack.append(num1 - num2)\n",
    "            elif char == '*':\n",
    "                stack.append(num1 * num2)\n",
    "            elif char == '/':\n",
    "                stack.append(num1 // num2)\n",
    "    return stack.pop()\n",
    "\n",
    "\n",
    "# example postfix expression\n",
    "postfix_expr = \"231*+9-\"\n",
    "\n",
    "# call the function and print the result\n",
    "result = evaluate_postfix(postfix_expr)\n",
    "print(result)\n"
   ]
  },
  {
   "cell_type": "markdown",
   "id": "cf6c6536",
   "metadata": {},
   "source": [
    "# 10] Implement a queue using the stack data structure"
   ]
  },
  {
   "cell_type": "code",
   "execution_count": 28,
   "id": "eb9adb2b",
   "metadata": {},
   "outputs": [
    {
     "name": "stdout",
     "output_type": "stream",
     "text": [
      "Queue: [1, 2, 3]\n",
      "1\n",
      "Queue: [2, 3]\n"
     ]
    }
   ],
   "source": [
    "class StackQueue:\n",
    "    def __init__(self):\n",
    "        self.in_stack = []\n",
    "        self.out_stack = []\n",
    "        \n",
    "    def enqueue(self, val):\n",
    "        self.in_stack.append(val)\n",
    "        \n",
    "    def dequeue(self):\n",
    "        if not self.out_stack:\n",
    "            while self.in_stack:\n",
    "                self.out_stack.append(self.in_stack.pop())\n",
    "        return self.out_stack.pop()\n",
    "    \n",
    "    def __str__(self):\n",
    "        return \"Queue: \" + str(self.out_stack[::-1] + self.in_stack)\n",
    "\n",
    "# create a StackQueue object\n",
    "sq = StackQueue()\n",
    "\n",
    "# add some elements to the queue\n",
    "sq.enqueue(1)\n",
    "sq.enqueue(2)\n",
    "sq.enqueue(3)\n",
    "\n",
    "# print the queue\n",
    "print(sq)\n",
    "\n",
    "# remove an element from the queue\n",
    "x = sq.dequeue()\n",
    "print(x)\n",
    "\n",
    "# print the queue again\n",
    "print(sq)\n"
   ]
  },
  {
   "cell_type": "code",
   "execution_count": null,
   "id": "a707bbce",
   "metadata": {},
   "outputs": [],
   "source": []
  }
 ],
 "metadata": {
  "kernelspec": {
   "display_name": "Python 3 (ipykernel)",
   "language": "python",
   "name": "python3"
  },
  "language_info": {
   "codemirror_mode": {
    "name": "ipython",
    "version": 3
   },
   "file_extension": ".py",
   "mimetype": "text/x-python",
   "name": "python",
   "nbconvert_exporter": "python",
   "pygments_lexer": "ipython3",
   "version": "3.9.12"
  }
 },
 "nbformat": 4,
 "nbformat_minor": 5
}
