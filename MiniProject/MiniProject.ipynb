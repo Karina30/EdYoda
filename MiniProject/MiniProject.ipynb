{
 "cells": [
  {
   "cell_type": "markdown",
   "id": "9aec8644",
   "metadata": {},
   "source": [
    "# 1.) Regex Query Tool - A tool that allows the user to enter a text string and then in a separate control enter a regex pattern. It will run the regular expression against the source text and return any matches or flag errors in the regular expression."
   ]
  },
  {
   "cell_type": "code",
   "execution_count": 4,
   "id": "1b71b810",
   "metadata": {},
   "outputs": [
    {
     "name": "stdout",
     "output_type": "stream",
     "text": [
      "Enter the source text: Karina Arif Mujawar\n",
      "Enter the regex pattern: \\b\\w{6}\\b\n",
      "Matches found:\n",
      "Karina\n"
     ]
    }
   ],
   "source": [
    "import re\n",
    "\n",
    "def regex_query():\n",
    "    \"\"\"Allows the user to enter a text string and regex pattern, then searches for matches.\"\"\"\n",
    "    # Get source text and regex pattern from user\n",
    "    source_text = input(\"Enter the source text: \")\n",
    "    regex_pattern = input(\"Enter the regex pattern: \")\n",
    "    \n",
    "    try:\n",
    "        # Compile the regex pattern and search for matches in the source text\n",
    "        regex = re.compile(regex_pattern)\n",
    "        matches = regex.findall(source_text)\n",
    "        \n",
    "        # Print out any matches found\n",
    "        if matches:\n",
    "            print(\"Matches found:\")\n",
    "            for match in matches:\n",
    "                print(match)\n",
    "        else:\n",
    "            print(\"No matches found.\")\n",
    "    except re.error as e:\n",
    "        # Print out any regex errors\n",
    "        print(f\"Error in regex pattern: {e}\")\n",
    "\n",
    "# Run the regex_query function\n",
    "regex_query()\n"
   ]
  },
  {
   "cell_type": "markdown",
   "id": "7ec2632e",
   "metadata": {},
   "source": [
    "# 2.) Quiz Maker - Make an application which takes various questions from a file, picked randomly, and puts together a quiz for students. Each quiz can be different and then reads a key to grade the quizzes."
   ]
  },
  {
   "cell_type": "code",
   "execution_count": null,
   "id": "923b1d51",
   "metadata": {},
   "outputs": [],
   "source": [
    "import random\n",
    "\n",
    "class QuizMaker:\n",
    "    \"\"\"A class that generates quizzes from a file of questions and grades the quizzes.\"\"\"\n",
    "\n",
    "    def __init__(self, filename):\n",
    "        \"\"\"Initialize the QuizMaker with a filename for the questions file.\"\"\"\n",
    "        self.questions = []\n",
    "        with open(filename, \"r\") as file:\n",
    "            for line in file:\n",
    "                question, answer = line.strip().split(\",\")\n",
    "                self.questions.append((question, answer))\n",
    "\n",
    "    def generate_quiz(self, num_questions):\n",
    "        \"\"\"Generate a quiz with a specified number of randomly chosen questions.\"\"\"\n",
    "        quiz_questions = random.sample(self.questions, num_questions)\n",
    "        quiz = []\n",
    "        answer_indices = []\n",
    "        for i, (question, answer) in enumerate(quiz_questions):\n",
    "            options = random.sample(self.questions, 3)\n",
    "            options.append((question, answer))\n",
    "            random.shuffle(options)\n",
    "            quiz.append((f\"{i+1}. {question}\", options))\n",
    "            answer_index = options.index((question, answer))\n",
    "            answer_indices.append(answer_index)\n",
    "        return quiz, answer_indices\n",
    "\n",
    "\n",
    "    def grade_quiz(self, quiz, key):\n",
    "            \"\"\"Grade a quiz using a specified answer key.\"\"\"\n",
    "            score = 0\n",
    "            for i, (question, options) in enumerate(quiz):\n",
    "                print(question)\n",
    "                for j, option in enumerate(options):\n",
    "                    print(f\"{j+1}. {option[1]}\")\n",
    "                while True:\n",
    "                    try:\n",
    "                        answer = int(input(\"Enter your answer: \"))\n",
    "                        break\n",
    "                    except ValueError:\n",
    "                        print(\"Invalid input. Please enter a number.\")\n",
    "                if options[answer-1][0] == key[i]:\n",
    "                    print(\"Correct!\")\n",
    "                    score += 1\n",
    "                else:\n",
    "                    print(f\"Incorrect. The correct answer was {options[key[i]-1][1]}.\")\n",
    "            print(f\"Your final score is {score}/{len(quiz)}.\")\n",
    "\n",
    "\n",
    "# Example usage:\n",
    "quiz_maker = QuizMaker(\"questions.txt\")\n",
    "quiz, answer_indices = quiz_maker.generate_quiz(1)\n",
    "print(\"Welcome to the quiz!\")\n",
    "quiz_maker.grade_quiz(quiz, answer_indices)\n"
   ]
  },
  {
   "cell_type": "code",
   "execution_count": null,
   "id": "956358c6",
   "metadata": {},
   "outputs": [],
   "source": []
  }
 ],
 "metadata": {
  "kernelspec": {
   "display_name": "Python 3 (ipykernel)",
   "language": "python",
   "name": "python3"
  },
  "language_info": {
   "codemirror_mode": {
    "name": "ipython",
    "version": 3
   },
   "file_extension": ".py",
   "mimetype": "text/x-python",
   "name": "python",
   "nbconvert_exporter": "python",
   "pygments_lexer": "ipython3",
   "version": "3.9.12"
  }
 },
 "nbformat": 4,
 "nbformat_minor": 5
}
